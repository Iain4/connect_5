{
 "cells": [
  {
   "cell_type": "code",
   "execution_count": 8,
   "metadata": {},
   "outputs": [],
   "source": [
    "import numpy"
   ]
  },
  {
   "cell_type": "code",
   "execution_count": 25,
   "metadata": {},
   "outputs": [],
   "source": [
    "class connectanator:\n",
    "    CONNECT_NUM = 4\n",
    "    SLOTS = 2 * CONNECT_NUM -1\n",
    "    ROWS = SLOTS - 1\n",
    "    MOVES = range(1, SLOTS+1)\n",
    "    PLAYERS = (\"Red\", \"Yellow\")\n",
    "\n",
    "    def __init__(self):\n",
    "        self.board = numpy.zeros((self.ROWS, self.SLOTS), dtype=int)\n",
    "        self.turn = 0\n",
    "\n",
    "    def get_move(self, case:str=\"default\"):\n",
    "        players_turn = self.get_whos_turn()\n",
    "        while True:\n",
    "            match case:\n",
    "                case \"default\":\n",
    "                    move = input(f\"The {players_turn} player puts their counter in slot...\")\n",
    "                case \"bad_input\":\n",
    "                    move = input(f\"The {players_turn} player didn't realise they had to put their counter in slot 1-{self.SLOTS}. (Type 'exit' to close the game.)\")\n",
    "                case \"full\":\n",
    "                    move = input(f\"The {players_turn} player tried to put their counter in the full slot {checked_move}, however they get to try again...(Type 'exit' to close the game.)\")\n",
    "                case \"all_g\":\n",
    "                    self.move = checked_move\n",
    "                    break\n",
    "\n",
    "            if move == 'exit':\n",
    "                break\n",
    "            \n",
    "            try: \n",
    "                move = int(move)\n",
    "            except ValueError:\n",
    "                case = \"bad_input\"; continue\n",
    "            \n",
    "            if move not in self.MOVES:\n",
    "                case = \"bad_input\"\n",
    "            elif self.board[0, move-1] != 0:\n",
    "                case = \"full\"\n",
    "            else: \n",
    "                checked_move = move; case = \"all_g\"\n",
    "            \n",
    "\n",
    "    def place_counter(self):\n",
    "        col = self.board[:, self.move]\n",
    "        for i, val in enumerate(col):\n",
    "            if val != 0:\n",
    "                self.board[i-1, self.move] = self.turn % 2\n",
    "\n",
    "\n",
    "    def check_board():\n",
    "        pass\n",
    "\n",
    "    def get_whos_turn(self):\n",
    "        return self.PLAYERS[self.get_player()]\n",
    "    \n",
    "    def get_turn(self):\n",
    "        return self.turn\n",
    "    \n",
    "    def get_player(self):\n",
    "        return self.turn % 2\n",
    "    "
   ]
  },
  {
   "cell_type": "code",
   "execution_count": null,
   "metadata": {},
   "outputs": [],
   "source": [
    "def main():\n",
    "    game = connectanator()\n",
    "    while True:\n",
    "        game.get_move()\n",
    "        game.place_counter()\n",
    "        turn = game.get_turn()\n",
    "        if turn > 5:\n",
    "            break\n",
    "\n",
    "if __name__ == \"__main__\":\n",
    "    main()"
   ]
  }
 ],
 "metadata": {
  "kernelspec": {
   "display_name": ".venv",
   "language": "python",
   "name": "python3"
  },
  "language_info": {
   "codemirror_mode": {
    "name": "ipython",
    "version": 3
   },
   "file_extension": ".py",
   "mimetype": "text/x-python",
   "name": "python",
   "nbconvert_exporter": "python",
   "pygments_lexer": "ipython3",
   "version": "3.11.6"
  }
 },
 "nbformat": 4,
 "nbformat_minor": 2
}
