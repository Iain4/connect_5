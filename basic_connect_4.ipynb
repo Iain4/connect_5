{
 "cells": [
  {
   "cell_type": "code",
   "execution_count": 1,
   "metadata": {},
   "outputs": [
    {
     "name": "stdout",
     "output_type": "stream",
     "text": [
      "pygame 2.6.1 (SDL 2.28.4, Python 3.11.6)\n",
      "Hello from the pygame community. https://www.pygame.org/contribute.html\n"
     ]
    }
   ],
   "source": [
    "import numpy as np\n",
    "import conectonator\n",
    "import pygame as pg"
   ]
  },
  {
   "cell_type": "code",
   "execution_count": 16,
   "metadata": {},
   "outputs": [],
   "source": [
    "class rendererer:\n",
    "    def __init__(\n",
    "            self,\n",
    "            res=(1280,720),\n",
    "            frame_rate=60\n",
    "        ):\n",
    "        pg.init()\n",
    "        self.screen = pg.display.set_mode(res)\n",
    "        self.frame_rate = frame_rate\n",
    "        self.clock = pg.time.Clock()\n",
    "        self.running = False\n",
    "    \n",
    "    def run_display(self):\n",
    "        self.running = True\n",
    "        while self.running:\n",
    "            for event in pg.event.get():\n",
    "                if event.type == pg.QUIT:\n",
    "                    self.running = False\n",
    "            self.display_func()\n",
    "        pg.quit()\n",
    "\n",
    "    def display_func(self):\n",
    "        self.screen.fill(\"purple\")\n",
    "        pg.display.flip()\n",
    "        self.clock.tick(self.frame_rate)\n",
    "        \n",
    "    "
   ]
  },
  {
   "cell_type": "code",
   "execution_count": 17,
   "metadata": {},
   "outputs": [],
   "source": [
    "def main():\n",
    "    # game = connectanator()\n",
    "    # print(game.get_board())\n",
    "    # while True:\n",
    "    #     game.game_turn()\n",
    "    #     print(game.get_board())\n",
    "    rend = rendererer()\n",
    "    rend.run_display()\n",
    "\n",
    "if __name__ == \"__main__\":\n",
    "    main()"
   ]
  },
  {
   "cell_type": "code",
   "execution_count": null,
   "metadata": {},
   "outputs": [],
   "source": []
  }
 ],
 "metadata": {
  "kernelspec": {
   "display_name": ".venv",
   "language": "python",
   "name": "python3"
  },
  "language_info": {
   "codemirror_mode": {
    "name": "ipython",
    "version": 3
   },
   "file_extension": ".py",
   "mimetype": "text/x-python",
   "name": "python",
   "nbconvert_exporter": "python",
   "pygments_lexer": "ipython3",
   "version": "3.11.6"
  }
 },
 "nbformat": 4,
 "nbformat_minor": 2
}
